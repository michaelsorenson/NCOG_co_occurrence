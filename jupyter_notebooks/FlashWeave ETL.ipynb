{
 "cells": [
  {
   "cell_type": "code",
   "execution_count": 1,
   "id": "cf6cbbbc",
   "metadata": {},
   "outputs": [],
   "source": [
    "import pandas as pd\n",
    "import numpy as np\n",
    "import re\n",
    "import sys"
   ]
  },
  {
   "cell_type": "code",
   "execution_count": 2,
   "id": "133ee251",
   "metadata": {},
   "outputs": [],
   "source": [
    "import flashweave_etl"
   ]
  },
  {
   "cell_type": "code",
   "execution_count": 3,
   "id": "1c4f3eea",
   "metadata": {},
   "outputs": [],
   "source": [
    "%load_ext autoreload\n",
    "%autoreload 2"
   ]
  },
  {
   "cell_type": "code",
   "execution_count": 4,
   "id": "496ab6b8",
   "metadata": {},
   "outputs": [],
   "source": [
    "sixteens_path = 'final_data/NCOG_21_16S_redo2_asv_count_tax.tsv'\n",
    "eighteens_path = 'final_data/NCOG_18sV4_asv_count_tax.tsv'\n",
    "metadata_path = 'final_data/NCOG_sample_log_DNA_stvx_meta_2014-2020_mod.tsv'\n",
    "sixteens_outpath = 'final_filtered_data/NCOG_21_16S_v4_redo2_filtered_asv_count_tax.tsv'\n",
    "eighteens_outpath = 'final_filtered_data/NCOG_18sV4_filtered_asv_count_tax.tsv'\n",
    "metadata_outpath = 'final_filtered_data/NCOG_v4_sample_log_DNA_stvx_meta_filtered_2014-2020_mod.tsv'\n",
    "id_map_outpath = 'final_filtered_data/NCOG_v4_id_map.tsv'\n",
    "flashweave_etl.main(sixteens_path, eighteens_path, metadata_path, sixteens_outpath, eighteens_outpath, metadata_outpath, id_map_outpath)\n"
   ]
  },
  {
   "cell_type": "code",
   "execution_count": 5,
   "id": "436dfc88",
   "metadata": {},
   "outputs": [],
   "source": [
    "sixteens_path = 'final_data/NCOG_21_16S_redo2_asv_count_tax.tsv'\n",
    "eighteens_path = 'final_data/NCOG_18sV9_asv_count_tax_S.tsv'\n",
    "metadata_path = 'final_data/NCOG_sample_log_DNA_stvx_meta_2014-2020_mod.tsv'\n",
    "sixteens_outpath = 'final_filtered_data/NCOG_21_16S_v9_redo2_filtered_asv_count_tax.tsv'\n",
    "eighteens_outpath = 'final_filtered_data/NCOG_18sV9_filtered_asv_count_tax.tsv'\n",
    "metadata_outpath = 'final_filtered_data/NCOG_v9_sample_log_DNA_stvx_meta_filtered_2014-2020_mod.tsv'\n",
    "id_map_outpath = 'final_filtered_data/NCOG_v9_id_map.tsv'\n",
    "flashweave_etl.main(sixteens_path, eighteens_path, metadata_path, sixteens_outpath, eighteens_outpath, metadata_outpath, id_map_outpath)\n"
   ]
  },
  {
   "cell_type": "code",
   "execution_count": null,
   "id": "e5239474",
   "metadata": {},
   "outputs": [],
   "source": []
  }
 ],
 "metadata": {
  "kernelspec": {
   "display_name": "Python 3 (ipykernel)",
   "language": "python",
   "name": "python3"
  },
  "language_info": {
   "codemirror_mode": {
    "name": "ipython",
    "version": 3
   },
   "file_extension": ".py",
   "mimetype": "text/x-python",
   "name": "python",
   "nbconvert_exporter": "python",
   "pygments_lexer": "ipython3",
   "version": "3.9.15"
  }
 },
 "nbformat": 4,
 "nbformat_minor": 5
}
