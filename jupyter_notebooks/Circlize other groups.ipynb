{
 "cells": [
  {
   "cell_type": "code",
   "execution_count": 1,
   "id": "089bd5e5",
   "metadata": {},
   "outputs": [
    {
     "name": "stderr",
     "output_type": "stream",
     "text": [
      "/Users/michaelsorenson/opt/anaconda3/lib/python3.9/site-packages/scipy/__init__.py:146: UserWarning: A NumPy version >=1.16.5 and <1.23.0 is required for this version of SciPy (detected version 1.23.5\n",
      "  warnings.warn(f\"A NumPy version >={np_minversion} and <{np_maxversion}\"\n"
     ]
    }
   ],
   "source": [
    "import matplotlib.pyplot as plt\n",
    "import networkx as nx\n",
    "import numpy as np\n",
    "import pandas as pd\n",
    "import seaborn as sns\n",
    "import circlize_etl"
   ]
  },
  {
   "cell_type": "code",
   "execution_count": 2,
   "id": "754f0e96",
   "metadata": {},
   "outputs": [],
   "source": [
    "%load_ext autoreload\n",
    "%autoreload 2"
   ]
  },
  {
   "cell_type": "markdown",
   "id": "0651ba88",
   "metadata": {},
   "source": [
    "## Bicoecea"
   ]
  },
  {
   "cell_type": "code",
   "execution_count": 3,
   "id": "4fefd6f6",
   "metadata": {},
   "outputs": [],
   "source": [
    "v4_focus_edges_df = circlize_etl.main('final_data/NCOG_21_16S_redo2_asv_count_tax.tsv',\n",
    "                                      'final_data/NCOG_18sV4_asv_count_tax.tsv',\n",
    "                                      'final_graph/NCOG_network_output_v4.gml',\n",
    "                                      'Bicoecea', 20)"
   ]
  },
  {
   "cell_type": "code",
   "execution_count": 4,
   "id": "8d5545dd",
   "metadata": {},
   "outputs": [],
   "source": [
    "v4_focus_edges_df.to_csv('circlize/Bicoecea/NCOG_network_v4_circlize_edgelist_bicoecea.csv')"
   ]
  },
  {
   "cell_type": "code",
   "execution_count": 26,
   "id": "fa596e74",
   "metadata": {},
   "outputs": [],
   "source": [
    "v9_focus_edges_df = circlize_etl.main('final_data/NCOG_21_16S_redo2_asv_count_tax.tsv',\n",
    "                                      'final_data/NCOG_18sV9_asv_count_tax_S.tsv',\n",
    "                                      'final_graph/NCOG_network_output_v9.gml',\n",
    "                                      'Bicoecea', 20)"
   ]
  },
  {
   "cell_type": "code",
   "execution_count": 27,
   "id": "aa725f50",
   "metadata": {},
   "outputs": [],
   "source": [
    "v9_focus_edges_df.to_csv('circlize/Bicoecea/NCOG_network_v9_circlize_edgelist_bicoecea.csv')"
   ]
  },
  {
   "cell_type": "markdown",
   "id": "1798b279",
   "metadata": {},
   "source": [
    "## Planctomycetota"
   ]
  },
  {
   "cell_type": "code",
   "execution_count": 29,
   "id": "2c96ca05",
   "metadata": {},
   "outputs": [],
   "source": [
    "v4_focus_edges_df = circlize_etl.main('final_data/NCOG_21_16S_redo2_asv_count_tax.tsv',\n",
    "                                      'final_data/NCOG_18sV4_asv_count_tax.tsv',\n",
    "                                      'final_graph/NCOG_network_output_v4.gml',\n",
    "                                      'p__Planctomycetota', 20)"
   ]
  },
  {
   "cell_type": "code",
   "execution_count": 30,
   "id": "bd16364e",
   "metadata": {},
   "outputs": [],
   "source": [
    "v4_focus_edges_df.to_csv('circlize/Planctomycetota/NCOG_network_v4_circlize_edgelist_planctomycetota.csv')"
   ]
  },
  {
   "cell_type": "code",
   "execution_count": 31,
   "id": "d8a03c90",
   "metadata": {},
   "outputs": [],
   "source": [
    "v9_focus_edges_df = circlize_etl.main('final_data/NCOG_21_16S_redo2_asv_count_tax.tsv',\n",
    "                                      'final_data/NCOG_18sV9_asv_count_tax_S.tsv',\n",
    "                                      'final_graph/NCOG_network_output_v9.gml',\n",
    "                                      'p__Planctomycetota', 20)"
   ]
  },
  {
   "cell_type": "code",
   "execution_count": 32,
   "id": "42e5ea24",
   "metadata": {},
   "outputs": [],
   "source": [
    "v9_focus_edges_df.to_csv('circlize/Planctomycetota/NCOG_network_v9_circlize_edgelist_planctomycetota.csv')"
   ]
  },
  {
   "cell_type": "markdown",
   "id": "190c8ab8",
   "metadata": {},
   "source": [
    "## p__Verrucomicrobiota"
   ]
  },
  {
   "cell_type": "code",
   "execution_count": 3,
   "id": "68e98e81",
   "metadata": {},
   "outputs": [],
   "source": [
    "v4_focus_edges_df = circlize_etl.main('final_data/NCOG_21_16S_redo2_asv_count_tax.tsv',\n",
    "                                      'final_data/NCOG_18sV4_asv_count_tax.tsv',\n",
    "                                      'final_graph/NCOG_network_output_v4.gml',\n",
    "                                      'p__Verrucomicrobiota', 20)"
   ]
  },
  {
   "cell_type": "code",
   "execution_count": 4,
   "id": "76768d48",
   "metadata": {},
   "outputs": [],
   "source": [
    "v4_focus_edges_df.to_csv('circlize/Verrucomicrobiota/NCOG_network_v4_circlize_edgelist_verrucomicrobiota.csv')"
   ]
  },
  {
   "cell_type": "code",
   "execution_count": 5,
   "id": "94863dbd",
   "metadata": {},
   "outputs": [],
   "source": [
    "v9_focus_edges_df = circlize_etl.main('final_data/NCOG_21_16S_redo2_asv_count_tax.tsv',\n",
    "                                      'final_data/NCOG_18sV9_asv_count_tax_S.tsv',\n",
    "                                      'final_graph/NCOG_network_output_v9.gml',\n",
    "                                      'p__Verrucomicrobiota', 20)"
   ]
  },
  {
   "cell_type": "code",
   "execution_count": 6,
   "id": "3b422600",
   "metadata": {},
   "outputs": [],
   "source": [
    "v9_focus_edges_df.to_csv('circlize/Verrucomicrobiota/NCOG_network_v9_circlize_edgelist_verrucomicrobiota.csv')"
   ]
  },
  {
   "cell_type": "code",
   "execution_count": null,
   "id": "7f86abf0",
   "metadata": {},
   "outputs": [],
   "source": []
  }
 ],
 "metadata": {
  "kernelspec": {
   "display_name": "Python 3 (ipykernel)",
   "language": "python",
   "name": "python3"
  },
  "language_info": {
   "codemirror_mode": {
    "name": "ipython",
    "version": 3
   },
   "file_extension": ".py",
   "mimetype": "text/x-python",
   "name": "python",
   "nbconvert_exporter": "python",
   "pygments_lexer": "ipython3",
   "version": "3.9.15"
  }
 },
 "nbformat": 4,
 "nbformat_minor": 5
}
