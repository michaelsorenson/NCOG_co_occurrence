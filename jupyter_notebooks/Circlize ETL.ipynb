{
 "cells": [
  {
   "cell_type": "code",
   "execution_count": 1,
   "id": "7a1fc085",
   "metadata": {},
   "outputs": [
    {
     "name": "stderr",
     "output_type": "stream",
     "text": [
      "/Users/michaelsorenson/opt/anaconda3/lib/python3.9/site-packages/scipy/__init__.py:146: UserWarning: A NumPy version >=1.16.5 and <1.23.0 is required for this version of SciPy (detected version 1.23.5\n",
      "  warnings.warn(f\"A NumPy version >={np_minversion} and <{np_maxversion}\"\n"
     ]
    }
   ],
   "source": [
    "import matplotlib.pyplot as plt\n",
    "import networkx as nx\n",
    "import numpy as np\n",
    "import pandas as pd\n",
    "import seaborn as sns\n",
    "import circlize_etl"
   ]
  },
  {
   "cell_type": "code",
   "execution_count": 2,
   "id": "a5b1e677",
   "metadata": {},
   "outputs": [],
   "source": [
    "%load_ext autoreload\n",
    "%autoreload 2"
   ]
  },
  {
   "cell_type": "markdown",
   "id": "8f1f8e76",
   "metadata": {},
   "source": [
    "## Network with 18S v4"
   ]
  },
  {
   "cell_type": "code",
   "execution_count": 3,
   "id": "ac54ac4b",
   "metadata": {},
   "outputs": [],
   "source": [
    "focus_group = 'Bacillariophyta'"
   ]
  },
  {
   "cell_type": "code",
   "execution_count": 4,
   "id": "14f867c1",
   "metadata": {},
   "outputs": [],
   "source": [
    "v4_edgelist = circlize_etl.get_edgelist('final_data/NCOG_21_16S_redo2_asv_count_tax.tsv', \n",
    "                                        'final_data/NCOG_18sV4_asv_count_tax.tsv',\n",
    "                                        'final_graph/NCOG_network_output_v4.gml')"
   ]
  },
  {
   "cell_type": "code",
   "execution_count": 5,
   "id": "5e110cf0",
   "metadata": {},
   "outputs": [],
   "source": [
    "v4_edgelist.to_csv('final_edgelist/NCOG_network_v4_edgelist.csv', index=False)"
   ]
  },
  {
   "cell_type": "code",
   "execution_count": 6,
   "id": "f22a9149",
   "metadata": {},
   "outputs": [],
   "source": [
    "v4_focus_edges_df = circlize_etl.main('final_data/NCOG_21_16S_redo2_asv_count_tax.tsv',\n",
    "                                      'final_data/NCOG_18sV4_asv_count_tax.tsv',\n",
    "                                      'final_graph/NCOG_network_output_v4.gml',\n",
    "                                      focus_group, 20)"
   ]
  },
  {
   "cell_type": "code",
   "execution_count": 7,
   "id": "0b0e15d0",
   "metadata": {},
   "outputs": [],
   "source": [
    "v4_focus_edges_df.to_csv('circlize/NCOG_network_v4_circlize_edgelist_bacillariophyta.csv')"
   ]
  },
  {
   "cell_type": "markdown",
   "id": "0750be78",
   "metadata": {},
   "source": [
    "## Network with 18S v9"
   ]
  },
  {
   "cell_type": "code",
   "execution_count": 8,
   "id": "7bbe188e",
   "metadata": {},
   "outputs": [],
   "source": [
    "focus_group = 'Bacillariophyta'"
   ]
  },
  {
   "cell_type": "code",
   "execution_count": 9,
   "id": "31b25bb2",
   "metadata": {},
   "outputs": [],
   "source": [
    "v9_edgelist = circlize_etl.get_edgelist('final_data/NCOG_21_16S_redo2_asv_count_tax.tsv', \n",
    "                                        'final_data/NCOG_18sV9_asv_count_tax_S.tsv',\n",
    "                                        'final_graph/NCOG_network_output_v9.gml')"
   ]
  },
  {
   "cell_type": "code",
   "execution_count": 10,
   "id": "0de63c69",
   "metadata": {},
   "outputs": [],
   "source": [
    "v9_edgelist.to_csv('final_edgelist/NCOG_network_v9_edgelist.csv', index=False)\n"
   ]
  },
  {
   "cell_type": "code",
   "execution_count": 11,
   "id": "2a91edc1",
   "metadata": {},
   "outputs": [],
   "source": [
    "v9_focus_edges_df = circlize_etl.main('final_data/NCOG_21_16S_redo2_asv_count_tax.tsv',\n",
    "                                      'final_data/NCOG_18sV9_asv_count_tax_S.tsv',\n",
    "                                      'final_graph/NCOG_network_output_v9.gml',\n",
    "                                      'Bacillariophyta', 20)"
   ]
  },
  {
   "cell_type": "code",
   "execution_count": 12,
   "id": "03dee151",
   "metadata": {},
   "outputs": [],
   "source": [
    "v9_focus_edges_df.to_csv('circlize/NCOG_network_v9_circlize_edgelist_bacillariophyta.csv')"
   ]
  }
 ],
 "metadata": {
  "kernelspec": {
   "display_name": "Python 3 (ipykernel)",
   "language": "python",
   "name": "python3"
  },
  "language_info": {
   "codemirror_mode": {
    "name": "ipython",
    "version": 3
   },
   "file_extension": ".py",
   "mimetype": "text/x-python",
   "name": "python",
   "nbconvert_exporter": "python",
   "pygments_lexer": "ipython3",
   "version": "3.9.15"
  }
 },
 "nbformat": 4,
 "nbformat_minor": 5
}
